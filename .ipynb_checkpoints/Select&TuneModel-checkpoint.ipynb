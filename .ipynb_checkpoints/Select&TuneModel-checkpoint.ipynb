{
 "cells": [
  {
   "cell_type": "code",
   "execution_count": 1,
   "metadata": {},
   "outputs": [
    {
     "name": "stderr",
     "output_type": "stream",
     "text": [
      "C:\\CodeProgram\\Anaconda\\lib\\site-packages\\ipykernel_launcher.py:7: DeprecationWarning: numpy.core.umath_tests is an internal NumPy module and should not be imported. It will be removed in a future NumPy release.\n",
      "  import sys\n"
     ]
    }
   ],
   "source": [
    "import pandas as pd\n",
    "import os\n",
    "import matplotlib.pyplot as plt\n",
    "%matplotlib inline\n",
    "import numpy as np\n",
    "from sklearn.model_selection import cross_val_score\n",
    "from numpy.core.umath_tests import inner1d\n",
    "from sklearn.svm import SVC\n",
    "from sklearn.model_selection import GridSearchCV\n",
    "from sklearn import metrics\n",
    "from sklearn.externals import joblib\n",
    "from sklearn.tree import DecisionTreeClassifier\n",
    "from sklearn.ensemble import RandomForestClassifier\n",
    "from numpy.core.umath_tests import inner1d\n",
    "from sklearn.svm import SVC"
   ]
  },
  {
   "cell_type": "markdown",
   "metadata": {},
   "source": [
    "# 1 比较模型"
   ]
  },
  {
   "cell_type": "markdown",
   "metadata": {},
   "source": [
    "挑选几种备选模型，用交叉验证计算各自的效果，删选出合适的模型。这里我就只比较决策树、随机森林和SVM，这个挑选的步骤是一个粗选，因此对于模型的参数只需设定为默认就行"
   ]
  },
  {
   "cell_type": "code",
   "execution_count": 2,
   "metadata": {},
   "outputs": [
    {
     "name": "stdout",
     "output_type": "stream",
     "text": [
      "(889, 13)\n",
      "(889, 1)\n"
     ]
    }
   ],
   "source": [
    "#读取之前保存好的数据\n",
    "train_X=pd.read_csv('train_X.csv').values\n",
    "train_X=np.delete(train_X,0,axis=1)\n",
    "print(train_X.shape)\n",
    "train_Y=pd.read_csv('train_Y.csv').values\n",
    "train_Y=np.delete(train_Y,0,axis=1)\n",
    "print(train_Y.shape)"
   ]
  },
  {
   "cell_type": "markdown",
   "metadata": {},
   "source": [
    "## 1.1 决策树"
   ]
  },
  {
   "cell_type": "code",
   "execution_count": 3,
   "metadata": {},
   "outputs": [
    {
     "name": "stdout",
     "output_type": "stream",
     "text": [
      "Scores: [0.75280899 0.82022472 0.73033708 0.78651685 0.84269663 0.76404494\n",
      " 0.82022472 0.76404494 0.78651685 0.85227273]\n",
      "Mean: 0.7919688457609806\n",
      "Standard deviation: 0.0384155711161994\n"
     ]
    }
   ],
   "source": [
    "def display_scores(scores):\n",
    "    print('Scores:',scores)\n",
    "    print('Mean:',scores.mean())\n",
    "    print('Standard deviation:',scores.std())\n",
    "tree_cl=DecisionTreeClassifier()\n",
    "scores=cross_val_score(tree_cl,train_X,train_Y,scoring='accuracy',cv=10) #进行10折的交叉验证\n",
    "display_scores(scores)"
   ]
  },
  {
   "cell_type": "markdown",
   "metadata": {},
   "source": [
    "## 1.2 随机森林"
   ]
  },
  {
   "cell_type": "code",
   "execution_count": 4,
   "metadata": {},
   "outputs": [
    {
     "name": "stdout",
     "output_type": "stream",
     "text": [
      "Scores: [0.71910112 0.80898876 0.76404494 0.83146067 0.88764045 0.82022472\n",
      " 0.80898876 0.7752809  0.78651685 0.84090909]\n",
      "Mean: 0.8043156281920327\n",
      "Standard deviation: 0.04399862284858091\n"
     ]
    }
   ],
   "source": [
    "forest_cl=RandomForestClassifier(n_estimators=500)\n",
    "scores=cross_val_score(forest_cl,train_X,train_Y.ravel(),scoring='accuracy',cv=10)\n",
    "display_scores(scores)"
   ]
  },
  {
   "cell_type": "markdown",
   "metadata": {},
   "source": [
    "## 1.3 SVM "
   ]
  },
  {
   "cell_type": "code",
   "execution_count": 5,
   "metadata": {},
   "outputs": [
    {
     "name": "stdout",
     "output_type": "stream",
     "text": [
      "Scores: [0.79775281 0.83146067 0.76404494 0.86516854 0.83146067 0.79775281\n",
      " 0.79775281 0.78651685 0.86516854 0.80681818]\n",
      "Mean: 0.8143896833503576\n",
      "Standard deviation: 0.031526169608360424\n"
     ]
    }
   ],
   "source": [
    "svc_cl=SVC(kernel='rbf')\n",
    "scores=cross_val_score(svc_cl,train_X,train_Y.ravel(),scoring='accuracy',cv=10)\n",
    "display_scores(scores)"
   ]
  },
  {
   "cell_type": "markdown",
   "metadata": {},
   "source": [
    "从交叉训练的平均准确度上看，SVM的效果好一点，所以我们就选择SVM作为训练模型"
   ]
  },
  {
   "cell_type": "markdown",
   "metadata": {},
   "source": [
    "# 2 调整模型"
   ]
  },
  {
   "cell_type": "markdown",
   "metadata": {},
   "source": [
    "已经选定了SVM作为应用模型，那么下面运用网格搜索调整超参数，让模型达到最佳状态"
   ]
  },
  {
   "cell_type": "code",
   "execution_count": 6,
   "metadata": {},
   "outputs": [
    {
     "name": "stdout",
     "output_type": "stream",
     "text": [
      "{'C': 1, 'gamma': 0.1, 'kernel': 'poly'}\n",
      "0.7874015748031497 {'C': 0.1, 'gamma': 0.1, 'kernel': 'rbf'}\n",
      "0.7266591676040495 {'C': 0.1, 'gamma': 1, 'kernel': 'rbf'}\n",
      "0.8143982002249719 {'C': 1, 'gamma': 0.1, 'kernel': 'rbf'}\n",
      "0.7986501687289089 {'C': 1, 'gamma': 1, 'kernel': 'rbf'}\n",
      "0.81214848143982 {'C': 10, 'gamma': 0.1, 'kernel': 'rbf'}\n",
      "0.8031496062992126 {'C': 10, 'gamma': 1, 'kernel': 'rbf'}\n",
      "0.7862767154105736 {'C': 0.1, 'kernel': 'linear'}\n",
      "0.7862767154105736 {'C': 1, 'kernel': 'linear'}\n",
      "0.6287964004499438 {'C': 0.1, 'gamma': 0.1, 'kernel': 'poly'}\n",
      "0.81214848143982 {'C': 0.1, 'gamma': 1, 'kernel': 'poly'}\n",
      "0.8188976377952756 {'C': 1, 'gamma': 0.1, 'kernel': 'poly'}\n",
      "0.7941507311586051 {'C': 1, 'gamma': 1, 'kernel': 'poly'}\n"
     ]
    }
   ],
   "source": [
    "train_X=pd.read_csv('train_X.csv').values\n",
    "train_X=np.delete(train_X,0,axis=1)\n",
    "train_Y=pd.read_csv('train_Y.csv').values\n",
    "train_Y=np.delete(train_Y,0,axis=1)\n",
    "train_Y=train_Y.ravel()\n",
    "param_grid=[{'kernel': ['rbf'], 'gamma': [0.1, 1], 'C': [0.1,1, 10]}, \n",
    "            {'kernel': ['linear'], 'C': [0.1, 1]},\n",
    "           {'kernel':['poly'],'C':[0.1,1],'gamma': [0.1, 1]}]\n",
    "svc=SVC()\n",
    "grid_search=GridSearchCV(svc,param_grid,cv=5,scoring='accuracy')\n",
    "grid_search.fit(train_X,train_Y)\n",
    "print(grid_search.best_params_)\n",
    "cvres=grid_search.cv_results_\n",
    "for mean_score,params in zip(cvres['mean_test_score'],cvres['params']):\n",
    "    print(mean_score,params)"
   ]
  },
  {
   "cell_type": "markdown",
   "metadata": {},
   "source": [
    "通过网格搜索可以看到C=1,gamma=0.1,kernel=poly是最佳参数"
   ]
  },
  {
   "cell_type": "markdown",
   "metadata": {},
   "source": [
    "# 3 保存模型"
   ]
  },
  {
   "cell_type": "markdown",
   "metadata": {},
   "source": [
    "使用搜索出的最佳参数构造并训练模型，将模型保存到本地"
   ]
  },
  {
   "cell_type": "code",
   "execution_count": 7,
   "metadata": {},
   "outputs": [
    {
     "name": "stdout",
     "output_type": "stream",
     "text": [
      "0.8222722159730034\n"
     ]
    }
   ],
   "source": [
    "svc=SVC(kernel='poly',gamma=0.1,C=1)\n",
    "svc.fit(train_X,train_Y)\n",
    "train_pred=svc.predict(train_X)\n",
    "print(metrics.accuracy_score(train_Y,train_pred))"
   ]
  },
  {
   "cell_type": "code",
   "execution_count": 8,
   "metadata": {},
   "outputs": [
    {
     "data": {
      "text/plain": [
       "['my_model.pkl']"
      ]
     },
     "execution_count": 8,
     "metadata": {},
     "output_type": "execute_result"
    }
   ],
   "source": [
    "joblib.dump(svc,'my_model.pkl')"
   ]
  },
  {
   "cell_type": "code",
   "execution_count": null,
   "metadata": {},
   "outputs": [],
   "source": []
  }
 ],
 "metadata": {
  "kernelspec": {
   "display_name": "Python 3",
   "language": "python",
   "name": "python3"
  },
  "language_info": {
   "codemirror_mode": {
    "name": "ipython",
    "version": 3
   },
   "file_extension": ".py",
   "mimetype": "text/x-python",
   "name": "python",
   "nbconvert_exporter": "python",
   "pygments_lexer": "ipython3",
   "version": "3.6.5"
  }
 },
 "nbformat": 4,
 "nbformat_minor": 2
}
