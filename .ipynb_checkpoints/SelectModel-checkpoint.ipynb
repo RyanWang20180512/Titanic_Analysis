{
 "cells": [
  {
   "cell_type": "markdown",
   "metadata": {},
   "source": [
    "挑选几种备选模型，用交叉验证计算各自的效果，删选出合适的模型"
   ]
  },
  {
   "cell_type": "code",
   "execution_count": 41,
   "metadata": {},
   "outputs": [],
   "source": [
    "import pandas as pd\n",
    "import os\n",
    "import matplotlib.pyplot as plt\n",
    "%matplotlib inline\n",
    "import numpy as np\n",
    "from sklearn.model_selection import cross_val_score\n",
    "from sklearn.tree import DecisionTreeClassifier\n",
    "from sklearn.ensemble import RandomForestClassifier\n",
    "from numpy.core.umath_tests import inner1d\n",
    "from sklearn.svm import SVC"
   ]
  },
  {
   "cell_type": "markdown",
   "metadata": {},
   "source": [
    "读取之前保存的训练数据"
   ]
  },
  {
   "cell_type": "code",
   "execution_count": 20,
   "metadata": {},
   "outputs": [
    {
     "name": "stdout",
     "output_type": "stream",
     "text": [
      "(889, 13)\n",
      "(889, 1)\n"
     ]
    }
   ],
   "source": [
    "train_X=pd.read_csv('train_X.csv').values\n",
    "train_X=np.delete(train_X,0,axis=1)\n",
    "print(train_X.shape)\n",
    "train_Y=pd.read_csv('train_Y.csv').values\n",
    "train_Y=np.delete(train_Y,0,axis=1)\n",
    "print(train_Y.shape)"
   ]
  },
  {
   "cell_type": "markdown",
   "metadata": {},
   "source": [
    "决策树"
   ]
  },
  {
   "cell_type": "code",
   "execution_count": 32,
   "metadata": {},
   "outputs": [
    {
     "name": "stdout",
     "output_type": "stream",
     "text": [
      "Scores: [0.71910112 0.83146067 0.75280899 0.7752809  0.84269663 0.76404494\n",
      " 0.82022472 0.76404494 0.78651685 0.85227273]\n",
      "Mean: 0.7908452502553626\n",
      "Standard deviation: 0.041552545142267375\n"
     ]
    }
   ],
   "source": [
    "def display_scores(scores):\n",
    "    print('Scores:',scores)\n",
    "    print('Mean:',scores.mean())\n",
    "    print('Standard deviation:',scores.std())\n",
    "tree_cl=DecisionTreeClassifier()\n",
    "scores=cross_val_score(tree_cl,train_X,train_Y,scoring='accuracy',cv=10)\n",
    "display_scores(scores)"
   ]
  },
  {
   "cell_type": "markdown",
   "metadata": {},
   "source": [
    "随机森林"
   ]
  },
  {
   "cell_type": "code",
   "execution_count": 36,
   "metadata": {},
   "outputs": [
    {
     "name": "stdout",
     "output_type": "stream",
     "text": [
      "Scores: [0.75280899 0.79775281 0.71910112 0.80898876 0.84269663 0.79775281\n",
      " 0.80898876 0.76404494 0.82022472 0.82954545]\n",
      "Mean: 0.7941905005107252\n",
      "Standard deviation: 0.036060440586489655\n"
     ]
    }
   ],
   "source": [
    "forest_cl=RandomForestClassifier()\n",
    "scores=cross_val_score(forest_cl,train_X,train_Y.ravel(),scoring='accuracy',cv=10)\n",
    "display_scores(scores)"
   ]
  },
  {
   "cell_type": "markdown",
   "metadata": {},
   "source": [
    "SVM"
   ]
  },
  {
   "cell_type": "code",
   "execution_count": 43,
   "metadata": {},
   "outputs": [
    {
     "name": "stdout",
     "output_type": "stream",
     "text": [
      "Scores: [0.79775281 0.83146067 0.76404494 0.86516854 0.83146067 0.79775281\n",
      " 0.79775281 0.78651685 0.86516854 0.80681818]\n",
      "Mean: 0.8143896833503576\n",
      "Standard deviation: 0.031526169608360424\n"
     ]
    }
   ],
   "source": [
    "svc_cl=SVC(kernel='rbf')\n",
    "scores=cross_val_score(svc_cl,train_X,train_Y.ravel(),scoring='accuracy',cv=10)\n",
    "display_scores(scores)"
   ]
  },
  {
   "cell_type": "code",
   "execution_count": null,
   "metadata": {},
   "outputs": [],
   "source": []
  }
 ],
 "metadata": {
  "kernelspec": {
   "display_name": "Python 3",
   "language": "python",
   "name": "python3"
  },
  "language_info": {
   "codemirror_mode": {
    "name": "ipython",
    "version": 3
   },
   "file_extension": ".py",
   "mimetype": "text/x-python",
   "name": "python",
   "nbconvert_exporter": "python",
   "pygments_lexer": "ipython3",
   "version": "3.6.5"
  }
 },
 "nbformat": 4,
 "nbformat_minor": 2
}
