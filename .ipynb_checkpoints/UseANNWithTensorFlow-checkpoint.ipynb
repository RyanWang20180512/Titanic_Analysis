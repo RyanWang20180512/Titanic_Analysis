{
 "cells": [
  {
   "cell_type": "markdown",
   "metadata": {},
   "source": [
    "在之前的程序中并没有使用神经网络模型，因为之前的重点在于ML的整体过程。在这篇文章中我们将重点放在神经网络模型上，关注如何使用Tensorflow构建神经网络来进行预测"
   ]
  },
  {
   "cell_type": "code",
   "execution_count": 21,
   "metadata": {},
   "outputs": [],
   "source": [
    "import logging\n",
    "logging.getLogger(\"tensorflow\").setLevel(logging.ERROR)\n",
    "import pandas as pd\n",
    "import os\n",
    "import matplotlib.pyplot as plt\n",
    "%matplotlib inline\n",
    "import numpy as np\n",
    "from sklearn.model_selection import KFold, cross_val_score\n",
    "#from numpy.core.umath_tests import inner1d\n",
    "from sklearn.model_selection import GridSearchCV\n",
    "from sklearn import metrics\n",
    "from sklearn.externals import joblib\n",
    "import tensorflow as tf\n",
    "from sklearn.model_selection import RandomizedSearchCV\n",
    "from tensorflow.contrib.layers import fully_connected"
   ]
  },
  {
   "cell_type": "code",
   "execution_count": 4,
   "metadata": {},
   "outputs": [
    {
     "name": "stdout",
     "output_type": "stream",
     "text": [
      "(889, 13)\n",
      "(889, 1)\n"
     ]
    }
   ],
   "source": [
    "#读取之前保存好的数据\n",
    "train_X=pd.read_csv('train_X.csv').values\n",
    "train_X=np.delete(train_X,0,axis=1)\n",
    "train_X=train_X.astype(np.float32)\n",
    "print(train_X.shape)\n",
    "train_Y=pd.read_csv('train_Y.csv').values\n",
    "train_Y=np.delete(train_Y,0,axis=1)\n",
    "print(train_Y.shape)"
   ]
  },
  {
   "cell_type": "code",
   "execution_count": 5,
   "metadata": {},
   "outputs": [
    {
     "name": "stdout",
     "output_type": "stream",
     "text": [
      "(418, 13)\n"
     ]
    }
   ],
   "source": [
    "test_set=pd.read_csv('test_X.csv')\n",
    "test_X=test_set.values\n",
    "test_X=np.delete(test_X,0,axis=1)\n",
    "test_X=test_X.astype(np.float32)\n",
    "print(test_X.shape)"
   ]
  },
  {
   "cell_type": "markdown",
   "metadata": {},
   "source": [
    "# 1 使用TensorFlow高级API"
   ]
  },
  {
   "cell_type": "markdown",
   "metadata": {},
   "source": [
    "可以使用TensorFlow的高级API来构建模型。TensorFLow的DNNClassifier类用于构建DNN模型，它的使用和Sklearn里的模型有点区别。此外TensorFlow下的这些模型接口更新比较频繁，下面的代码可能过段时间就过时了，但是基本框架不变，具体的细节需要参考TensorFlow的官方文档"
   ]
  },
  {
   "cell_type": "code",
   "execution_count": 19,
   "metadata": {},
   "outputs": [],
   "source": [
    "feature_columns = [tf.feature_column.numeric_column(\"x\", shape=[train_X.shape[1]])] #定义特征列\n",
    "#定义一个包含两个节点数分别为100和50的隐藏层，输出类别数为2的DNN(激活函数默认为ReLU)\n",
    "dnn=tf.estimator.DNNClassifier(hidden_units=[100,50],n_classes=2,feature_columns=feature_columns) \n",
    "#TensorFlow的Estimator对象的输入数据必须封装成下面的形式\n",
    "train_input_fn = tf.estimator.inputs.numpy_input_fn(\n",
    "    x={\"x\": train_X},\n",
    "    y=train_Y,\n",
    "    num_epochs=None,\n",
    "    shuffle=True)\n",
    "dnn.train(input_fn=train_input_fn, steps=1000) #使用训练数据训练DNN，steps指定为1000\n",
    "#看看训练集的准确度怎样\n",
    "test_input_fn = tf.estimator.inputs.numpy_input_fn(\n",
    "    x={\"x\": train_X},\n",
    "    y=train_Y,\n",
    "    num_epochs=1,\n",
    "    shuffle=False)\n",
    "accuracy_score = dnn.evaluate(input_fn=test_input_fn)[\"accuracy\"]"
   ]
  },
  {
   "cell_type": "code",
   "execution_count": 20,
   "metadata": {},
   "outputs": [
    {
     "name": "stdout",
     "output_type": "stream",
     "text": [
      "\n",
      "Train Set Accuracy: 0.879640\n",
      "\n"
     ]
    }
   ],
   "source": [
    "print(\"\\nTrain Set Accuracy: {0:f}\\n\".format(accuracy_score))"
   ]
  },
  {
   "cell_type": "markdown",
   "metadata": {},
   "source": [
    "可以看到训练集的准确度是比较高的,但是DNN是种比较容易过拟合的模型,这样把全部的训练集全部喂给DNN获得的结果未必具有代表性，所以我们使用交叉验证来看看训练集的评价准确度"
   ]
  },
  {
   "cell_type": "code",
   "execution_count": 22,
   "metadata": {},
   "outputs": [],
   "source": [
    "feature_columns = [tf.feature_column.numeric_column(\"x\", shape=[train_X.shape[1]])]\n",
    "k_fold = KFold(n_splits=10) #K折交叉验证\n",
    "accuracy_scores=[]\n",
    "for train_indices, validate_indices in k_fold.split(train_X):\n",
    "    x_train, x_validate = train_X[train_indices], train_X[validate_indices]\n",
    "    y_train, y_validate = train_Y[train_indices], train_Y[validate_indices]\n",
    "    dnn=tf.estimator.DNNClassifier(hidden_units=[100,50],n_classes=2,feature_columns=feature_columns)\n",
    "    train_input_fn = tf.estimator.inputs.numpy_input_fn(x={\"x\": x_train},y=y_train,num_epochs=None,shuffle=True)\n",
    "    dnn.train(input_fn=train_input_fn, steps=1000)\n",
    "    validate_input_fn = tf.estimator.inputs.numpy_input_fn(x={\"x\": x_validate},y=y_validate,num_epochs=1,shuffle=False)\n",
    "    accuracy_score = dnn.evaluate(input_fn=validate_input_fn)[\"accuracy\"]\n",
    "    accuracy_scores.append(accuracy_score)"
   ]
  },
  {
   "cell_type": "code",
   "execution_count": 23,
   "metadata": {},
   "outputs": [
    {
     "name": "stdout",
     "output_type": "stream",
     "text": [
      "accuracy scores : \n",
      "[0.78651685, 0.8426966, 0.7752809, 0.76404494, 0.8426966, 0.8426966, 0.8202247, 0.78651685, 0.8426966, 0.84090906]\n",
      "mean score : \n",
      "0.81442803\n"
     ]
    }
   ],
   "source": [
    "print('accuracy scores : ')\n",
    "print(accuracy_scores)\n",
    "print('mean score : ')\n",
    "print(np.mean(accuracy_scores, axis=0))"
   ]
  },
  {
   "cell_type": "markdown",
   "metadata": {},
   "source": [
    "可以看到交叉验证的结果低了不少,其结果和之前用的其他模型差不多"
   ]
  },
  {
   "cell_type": "markdown",
   "metadata": {},
   "source": [
    "接着我们调整参数看看效果,Sklearn库的网格搜索接口不能直接应用在Tensorflow的模型中,所以下面手动计算参数对模型的影响"
   ]
  },
  {
   "cell_type": "markdown",
   "metadata": {},
   "source": [
    "首先固定隐藏层数为1,steps=1000，看看单隐藏层下神经元数对结果的影响"
   ]
  },
  {
   "cell_type": "code",
   "execution_count": 25,
   "metadata": {},
   "outputs": [],
   "source": [
    "mean_accuracy_list=[]\n",
    "hidden_units_list=[[10],[20],[30],[40],[50],[60],[70],[80],[90],[100],[200],[500],[1000]]\n",
    "steps=1000\n",
    "feature_columns = [tf.feature_column.numeric_column(\"x\", shape=[train_X.shape[1]])]\n",
    "for i,hidden_units in enumerate(hidden_units_list):\n",
    "    #print(i)\n",
    "    k_fold = KFold(n_splits=10)\n",
    "    accuracy_scores=[]\n",
    "    for train_indices, validate_indices in k_fold.split(train_X):\n",
    "        #print('Train shape: %s | validate shape: %s' % (train_indices.shape, validate_indices.shape))\n",
    "        x_train, x_validate = train_X[train_indices], train_X[validate_indices]\n",
    "        y_train, y_validate = train_Y[train_indices], train_Y[validate_indices]\n",
    "        dnn=tf.estimator.DNNClassifier(hidden_units=hidden_units,n_classes=2,feature_columns=feature_columns)\n",
    "        train_input_fn = tf.estimator.inputs.numpy_input_fn(x={\"x\": x_train},y=y_train,num_epochs=None,shuffle=True)\n",
    "        dnn.train(input_fn=train_input_fn, steps=steps)\n",
    "        validate_input_fn = tf.estimator.inputs.numpy_input_fn(x={\"x\": x_validate},y=y_validate,num_epochs=1,shuffle=False)\n",
    "        accuracy_score = dnn.evaluate(input_fn=validate_input_fn)[\"accuracy\"]\n",
    "        accuracy_scores.append(accuracy_score)\n",
    "    mean_accuracy_list.append(np.mean(accuracy_scores, axis=0))"
   ]
  },
  {
   "cell_type": "code",
   "execution_count": 26,
   "metadata": {},
   "outputs": [
    {
     "data": {
      "image/png": "[encoded data removed]",
      "text/plain": [
       "<Figure size 432x288 with 1 Axes>"
      ]
     },
     "metadata": {},
     "output_type": "display_data"
    }
   ],
   "source": [
    "plt.figure()\n",
    "plt.plot(hidden_units_list,mean_accuracy_list)\n",
    "plt.xlabel('num')\n",
    "plt.ylabel('accuracy')\n",
    "plt.show()"
   ]
  },
  {
   "cell_type": "markdown",
   "metadata": {},
   "source": [
    "接着固定为1000个神经元的隐藏层,改变迭代次数steps查看效果"
   ]
  },
  {
   "cell_type": "code",
   "execution_count": 28,
   "metadata": {},
   "outputs": [],
   "source": [
    "mean_accuracy_list=[]\n",
    "hidden_units=[1000]\n",
    "steps_list=[10,20,30,40,50,60,70,80,90,100,200,500,1000,2000]\n",
    "feature_columns = [tf.feature_column.numeric_column(\"x\", shape=[train_X.shape[1]])]\n",
    "for i,steps in enumerate(steps_list):\n",
    "    #print(i)\n",
    "    k_fold = KFold(n_splits=10)\n",
    "    accuracy_scores=[]\n",
    "    for train_indices, validate_indices in k_fold.split(train_X):\n",
    "        x_train, x_validate = train_X[train_indices], train_X[validate_indices]\n",
    "        y_train, y_validate = train_Y[train_indices], train_Y[validate_indices]\n",
    "        dnn=tf.estimator.DNNClassifier(hidden_units=hidden_units,n_classes=2,feature_columns=feature_columns)\n",
    "        train_input_fn = tf.estimator.inputs.numpy_input_fn(x={\"x\": x_train},y=y_train,num_epochs=None,shuffle=True)\n",
    "        dnn.train(input_fn=train_input_fn, steps=steps)\n",
    "        validate_input_fn = tf.estimator.inputs.numpy_input_fn(x={\"x\": x_validate},y=y_validate,num_epochs=1,shuffle=False)\n",
    "        accuracy_score = dnn.evaluate(input_fn=validate_input_fn)[\"accuracy\"]\n",
    "        accuracy_scores.append(accuracy_score)\n",
    "    mean_accuracy_list.append(np.mean(accuracy_scores, axis=0))"
   ]
  },
  {
   "cell_type": "code",
   "execution_count": 29,
   "metadata": {},
   "outputs": [
    {
     "data": {
      "image/png": "[encoded data removed]",
      "text/plain": [
       "<Figure size 432x288 with 1 Axes>"
      ]
     },
     "metadata": {},
     "output_type": "display_data"
    }
   ],
   "source": [
    "plt.figure()\n",
    "plt.plot(steps_list,mean_accuracy_list)\n",
    "plt.xlabel('steps')\n",
    "plt.ylabel('accuracy')\n",
    "plt.show()"
   ]
  },
  {
   "cell_type": "markdown",
   "metadata": {},
   "source": [
    "然后我们使用两个隐藏层,第一层固定为1000个节点,改变第二层的节点数"
   ]
  },
  {
   "cell_type": "code",
   "execution_count": 30,
   "metadata": {},
   "outputs": [],
   "source": [
    "mean_accuracy_list=[]\n",
    "hidden_units_list=[[1000,10],[1000,20],[1000,30],[1000,40],[1000,50],[1000,60],[1000,70],[1000,80],[1000,90],[1000,100],[1000,200],[1000,500],[1000,1000]]\n",
    "steps=1000\n",
    "feature_columns = [tf.feature_column.numeric_column(\"x\", shape=[train_X.shape[1]])]\n",
    "for i,hidden_units in enumerate(hidden_units_list):\n",
    "    #print(i)\n",
    "    k_fold = KFold(n_splits=10)\n",
    "    accuracy_scores=[]\n",
    "    for train_indices, validate_indices in k_fold.split(train_X):\n",
    "        x_train, x_validate = train_X[train_indices], train_X[validate_indices]\n",
    "        y_train, y_validate = train_Y[train_indices], train_Y[validate_indices]\n",
    "        dnn=tf.estimator.DNNClassifier(hidden_units=hidden_units,n_classes=2,feature_columns=feature_columns)\n",
    "        train_input_fn = tf.estimator.inputs.numpy_input_fn(x={\"x\": x_train},y=y_train,num_epochs=None,shuffle=True)\n",
    "        dnn.train(input_fn=train_input_fn, steps=steps)\n",
    "        validate_input_fn = tf.estimator.inputs.numpy_input_fn(x={\"x\": x_validate},y=y_validate,num_epochs=1,shuffle=False)\n",
    "        accuracy_score = dnn.evaluate(input_fn=validate_input_fn)[\"accuracy\"]\n",
    "        accuracy_scores.append(accuracy_score)\n",
    "    mean_accuracy_list.append(np.mean(accuracy_scores, axis=0))"
   ]
  },
  {
   "cell_type": "code",
   "execution_count": 31,
   "metadata": {},
   "outputs": [
    {
     "data": {
      "image/png": "[encoded data removed]",
      "text/plain": [
       "<Figure size 432x288 with 1 Axes>"
      ]
     },
     "metadata": {},
     "output_type": "display_data"
    }
   ],
   "source": [
    "plt.figure()\n",
    "plt.plot([h[1] for h in hidden_units_list],mean_accuracy_list)\n",
    "plt.xlabel('num')\n",
    "plt.ylabel('accuracy')\n",
    "plt.show()"
   ]
  },
  {
   "cell_type": "markdown",
   "metadata": {},
   "source": [
    "由上面的参数分析,可以看到无论怎么调整,最终的准确度都是稳定在0.8左右,那么用这个模型来提交Kaggle,分数也只能在零点七几"
   ]
  },
  {
   "cell_type": "code",
   "execution_count": 32,
   "metadata": {},
   "outputs": [
    {
     "name": "stdout",
     "output_type": "stream",
     "text": [
      "\n",
      "Train Set Accuracy: 0.887514\n",
      "\n"
     ]
    }
   ],
   "source": [
    "feature_columns = [tf.feature_column.numeric_column(\"x\", shape=[train_X.shape[1]])]\n",
    "dnn=tf.estimator.DNNClassifier(hidden_units=[500,500],n_classes=2,feature_columns=feature_columns)\n",
    "train_input_fn = tf.estimator.inputs.numpy_input_fn(\n",
    "    x={\"x\": train_X},\n",
    "    y=train_Y,\n",
    "    num_epochs=None,\n",
    "    shuffle=True)\n",
    "dnn.train(input_fn=train_input_fn, steps=1000)\n",
    "\n",
    "test_input_fn = tf.estimator.inputs.numpy_input_fn(\n",
    "    x={\"x\": train_X},\n",
    "    y=train_Y,\n",
    "    num_epochs=1,\n",
    "    shuffle=False)\n",
    "accuracy_score = dnn.evaluate(input_fn=test_input_fn)[\"accuracy\"]\n",
    "print(\"\\nTrain Set Accuracy: {0:f}\\n\".format(accuracy_score))"
   ]
  },
  {
   "cell_type": "code",
   "execution_count": 18,
   "metadata": {
    "collapsed": true
   },
   "outputs": [
    {
     "name": "stdout",
     "output_type": "stream",
     "text": [
      "INFO:tensorflow:Calling model_fn.\n",
      "INFO:tensorflow:Done calling model_fn.\n",
      "INFO:tensorflow:Graph was finalized.\n",
      "INFO:tensorflow:Restoring parameters from C:\\Users\\WZN7SZH\\AppData\\Local\\Temp\\tmpp30wawel\\model.ckpt-1000\n",
      "INFO:tensorflow:Running local_init_op.\n",
      "INFO:tensorflow:Done running local_init_op.\n"
     ]
    }
   ],
   "source": [
    "test_input_fn = tf.estimator.inputs.numpy_input_fn(\n",
    "    x={\"x\": test_X},\n",
    "    num_epochs=1,\n",
    "    shuffle=False)\n",
    "test_pred=dnn.predict(input_fn=test_input_fn) #用训练好的模型预测结果\n",
    "predictions = list(test_pred)\n",
    "#print(predictions)\n",
    "predicted_results = [int(p[\"classes\"][0]) for p in predictions]\n",
    "#print(predicted_results)"
   ]
  },
  {
   "cell_type": "code",
   "execution_count": 19,
   "metadata": {},
   "outputs": [
    {
     "name": "stdout",
     "output_type": "stream",
     "text": [
      "<class 'pandas.core.frame.DataFrame'>\n",
      "RangeIndex: 418 entries, 0 to 417\n",
      "Data columns (total 2 columns):\n",
      "PassengerId    418 non-null int64\n",
      "Survived       418 non-null int64\n",
      "dtypes: int64(2)\n",
      "memory usage: 6.6 KB\n"
     ]
    }
   ],
   "source": [
    "test_set=pd.read_csv('test.csv')\n",
    "passagerIds=test_set['PassengerId'].values\n",
    "submission=pd.DataFrame(data=np.c_[passagerIds,np.array(predicted_results)],columns=['PassengerId','Survived'])\n",
    "submission.info()\n",
    "submission.to_csv('submission.csv',index=False)"
   ]
  },
  {
   "cell_type": "markdown",
   "metadata": {
    "collapsed": true
   },
   "source": [
    "# 2 使用TensorFlow低级API"
   ]
  },
  {
   "cell_type": "markdown",
   "metadata": {},
   "source": [
    "也可以利用更低级的API来搭建更灵活的DNN模型,构建TensorFlow计算图,然后执行图"
   ]
  },
  {
   "cell_type": "markdown",
   "metadata": {},
   "source": [
    "## 2.1 构建DNN计算图"
   ]
  },
  {
   "cell_type": "code",
   "execution_count": 33,
   "metadata": {},
   "outputs": [],
   "source": [
    "n_inputs=train_X.shape[1] #输入个数\n",
    "n_hidden1=1000 #第一个隐藏层的神经元个数\n",
    "n_hidden2=500  #第二个隐藏层神经元个数\n",
    "n_outputs=2  #输出个数"
   ]
  },
  {
   "cell_type": "code",
   "execution_count": 34,
   "metadata": {},
   "outputs": [],
   "source": [
    "X=tf.placeholder(tf.float32,shape=(None,n_inputs),name='X') #定义输入张量\n",
    "y=tf.placeholder(tf.int64,shape=(None),name='y') #定义输出张量"
   ]
  },
  {
   "cell_type": "code",
   "execution_count": 35,
   "metadata": {},
   "outputs": [],
   "source": [
    "#创建各个层\n",
    "with tf.name_scope('dnn'):\n",
    "    hidden1=fully_connected(X,n_hidden1,scope='hidden1')\n",
    "    hidden2=fully_connected(hidden1,n_hidden2,scope='hidden2')\n",
    "    logits=fully_connected(hidden2,n_outputs,scope='outputs',activation_fn=None)"
   ]
  },
  {
   "cell_type": "code",
   "execution_count": 36,
   "metadata": {},
   "outputs": [],
   "source": [
    "#定义成本函数\n",
    "with tf.name_scope('loss'):\n",
    "    xentropy=tf.nn.sparse_softmax_cross_entropy_with_logits(labels=y,logits=logits)\n",
    "    loss=tf.reduce_mean(xentropy,name='loss')"
   ]
  },
  {
   "cell_type": "code",
   "execution_count": 37,
   "metadata": {},
   "outputs": [],
   "source": [
    "#定义梯度下降优化器\n",
    "learning_rate=0.01\n",
    "with tf.name_scope('train'):\n",
    "    optimizer=tf.train.GradientDescentOptimizer(learning_rate)\n",
    "    training_op=optimizer.minimize(loss)"
   ]
  },
  {
   "cell_type": "code",
   "execution_count": 38,
   "metadata": {},
   "outputs": [],
   "source": [
    "#指示性能指标\n",
    "with tf.name_scope('eval'):\n",
    "    correct=tf.nn.in_top_k(logits,y,1)\n",
    "    accuracy=tf.reduce_mean(tf.cast(correct,tf.float32))"
   ]
  },
  {
   "cell_type": "code",
   "execution_count": 39,
   "metadata": {},
   "outputs": [],
   "source": [
    "init=tf.global_variables_initializer()\n",
    "saver=tf.train.Saver()"
   ]
  },
  {
   "cell_type": "markdown",
   "metadata": {},
   "source": [
    "## 2.2 执行计算图"
   ]
  },
  {
   "cell_type": "code",
   "execution_count": 41,
   "metadata": {},
   "outputs": [
    {
     "name": "stdout",
     "output_type": "stream",
     "text": [
      "0 Train accuracy: 0.61417323\n",
      "10 Train accuracy: 0.6692913\n",
      "20 Train accuracy: 0.6512936\n",
      "30 Train accuracy: 0.655793\n",
      "40 Train accuracy: 0.6614173\n",
      "50 Train accuracy: 0.663667\n",
      "60 Train accuracy: 0.6760405\n",
      "70 Train accuracy: 0.6861642\n",
      "80 Train accuracy: 0.69516313\n",
      "90 Train accuracy: 0.69966257\n",
      "100 Train accuracy: 0.70866144\n",
      "110 Train accuracy: 0.71428573\n",
      "120 Train accuracy: 0.7210349\n",
      "130 Train accuracy: 0.72778404\n",
      "140 Train accuracy: 0.7311586\n",
      "150 Train accuracy: 0.73565805\n",
      "160 Train accuracy: 0.74128234\n",
      "170 Train accuracy: 0.74353206\n",
      "180 Train accuracy: 0.74690664\n",
      "190 Train accuracy: 0.7502812\n",
      "200 Train accuracy: 0.7502812\n",
      "210 Train accuracy: 0.7559055\n",
      "220 Train accuracy: 0.7592801\n",
      "230 Train accuracy: 0.76040494\n",
      "240 Train accuracy: 0.7637795\n",
      "250 Train accuracy: 0.7649044\n",
      "260 Train accuracy: 0.7649044\n",
      "270 Train accuracy: 0.76602924\n",
      "280 Train accuracy: 0.7727784\n",
      "290 Train accuracy: 0.77952754\n",
      "300 Train accuracy: 0.784027\n",
      "310 Train accuracy: 0.78740156\n",
      "320 Train accuracy: 0.7885264\n",
      "330 Train accuracy: 0.7885264\n",
      "340 Train accuracy: 0.79302585\n",
      "350 Train accuracy: 0.791901\n",
      "360 Train accuracy: 0.791901\n",
      "370 Train accuracy: 0.79527557\n",
      "380 Train accuracy: 0.7964004\n",
      "390 Train accuracy: 0.7975253\n",
      "400 Train accuracy: 0.80089986\n",
      "410 Train accuracy: 0.80089986\n",
      "420 Train accuracy: 0.799775\n",
      "430 Train accuracy: 0.8031496\n",
      "440 Train accuracy: 0.8031496\n",
      "450 Train accuracy: 0.81889766\n",
      "460 Train accuracy: 0.81889766\n",
      "470 Train accuracy: 0.81889766\n",
      "480 Train accuracy: 0.8177728\n",
      "490 Train accuracy: 0.8200225\n"
     ]
    }
   ],
   "source": [
    "train_Y=train_Y.ravel()\n",
    "n_epochs=500\n",
    "with tf.Session() as sess:\n",
    "    init.run()\n",
    "    for epoch in range(n_epochs):\n",
    "        sess.run(training_op,feed_dict={X:train_X,y:train_Y})\n",
    "        acc_train=accuracy.eval(feed_dict={X:train_X,y:train_Y})\n",
    "        if epoch%10==0:\n",
    "            print(epoch,\"Train accuracy:\",acc_train)"
   ]
  },
  {
   "cell_type": "markdown",
   "metadata": {
    "collapsed": true
   },
   "source": [
    "可以看到,经过500次的迭代,训练集的准确率也是稳定在0.8左右"
   ]
  }
 ],
 "metadata": {
  "kernelspec": {
   "display_name": "Python 3",
   "language": "python",
   "name": "python3"
  },
  "language_info": {
   "codemirror_mode": {
    "name": "ipython",
    "version": 3
   },
   "file_extension": ".py",
   "mimetype": "text/x-python",
   "name": "python",
   "nbconvert_exporter": "python",
   "pygments_lexer": "ipython3",
   "version": "3.6.5"
  }
 },
 "nbformat": 4,
 "nbformat_minor": 2
}
