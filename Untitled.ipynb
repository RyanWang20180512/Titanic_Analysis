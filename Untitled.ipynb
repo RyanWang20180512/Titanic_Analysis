{
 "cells": [
  {
   "cell_type": "code",
   "execution_count": 1,
   "metadata": {},
   "outputs": [],
   "source": [
    "import cv2"
   ]
  },
  {
   "cell_type": "code",
   "execution_count": 2,
   "metadata": {},
   "outputs": [
    {
     "name": "stdout",
     "output_type": "stream",
     "text": [
      "Help on built-in function boxPoints:\n",
      "\n",
      "boxPoints(...)\n",
      "    boxPoints(box[, points]) -> points\n",
      "    .   @brief Finds the four vertices of a rotated rect. Useful to draw the rotated rectangle.\n",
      "    .   \n",
      "    .   The function finds the four vertices of a rotated rectangle. This function is useful to draw the\n",
      "    .   rectangle. In C++, instead of using this function, you can directly use RotatedRect::points method. Please\n",
      "    .   visit the @ref tutorial_bounding_rotated_ellipses \"tutorial on Creating Bounding rotated boxes and ellipses for contours\" for more information.\n",
      "    .   \n",
      "    .   @param box The input rotated rectangle. It may be the output of\n",
      "    .   @param points The output array of four vertices of rectangles.\n",
      "\n"
     ]
    }
   ],
   "source": [
    "help(cv2.boxPoints)"
   ]
  },
  {
   "cell_type": "code",
   "execution_count": 3,
   "metadata": {},
   "outputs": [
    {
     "data": {
      "text/plain": [
       "'3.4.1'"
      ]
     },
     "execution_count": 3,
     "metadata": {},
     "output_type": "execute_result"
    }
   ],
   "source": [
    "cv2.__version__"
   ]
  },
  {
   "cell_type": "code",
   "execution_count": null,
   "metadata": {},
   "outputs": [],
   "source": []
  }
 ],
 "metadata": {
  "kernelspec": {
   "display_name": "Python 3",
   "language": "python",
   "name": "python3"
  },
  "language_info": {
   "codemirror_mode": {
    "name": "ipython",
    "version": 3
   },
   "file_extension": ".py",
   "mimetype": "text/x-python",
   "name": "python",
   "nbconvert_exporter": "python",
   "pygments_lexer": "ipython3",
   "version": "3.6.5"
  }
 },
 "nbformat": 4,
 "nbformat_minor": 2
}
