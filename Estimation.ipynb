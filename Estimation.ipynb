{
 "cells": [
  {
   "cell_type": "markdown",
   "metadata": {},
   "source": [
    "已经用训练集准备好了模型，接着就是使用测试集评估最终模型。"
   ]
  },
  {
   "cell_type": "markdown",
   "metadata": {},
   "source": [
    "对于测试集，同样需要进行预处理"
   ]
  },
  {
   "cell_type": "code",
   "execution_count": 15,
   "metadata": {},
   "outputs": [],
   "source": [
    "import pandas as pd\n",
    "import os\n",
    "import matplotlib.pyplot as plt\n",
    "%matplotlib inline\n",
    "from sklearn.preprocessing import Imputer\n",
    "from sklearn.preprocessing import LabelEncoder\n",
    "from sklearn.preprocessing import LabelBinarizer\n",
    "from sklearn.preprocessing import OneHotEncoder\n",
    "from sklearn.base import BaseEstimator,TransformerMixin\n",
    "import numpy as np\n",
    "from sklearn.pipeline import Pipeline\n",
    "from sklearn.preprocessing import StandardScaler\n",
    "from sklearn.pipeline import FeatureUnion\n",
    "from sklearn.externals import joblib\n",
    "from sklearn.svm import SVC"
   ]
  },
  {
   "cell_type": "code",
   "execution_count": 14,
   "metadata": {},
   "outputs": [
    {
     "name": "stdout",
     "output_type": "stream",
     "text": [
      "<class 'pandas.core.frame.DataFrame'>\n",
      "RangeIndex: 418 entries, 0 to 417\n",
      "Data columns (total 11 columns):\n",
      "PassengerId    418 non-null int64\n",
      "Pclass         418 non-null int64\n",
      "Name           418 non-null object\n",
      "Sex            418 non-null object\n",
      "Age            332 non-null float64\n",
      "SibSp          418 non-null int64\n",
      "Parch          418 non-null int64\n",
      "Ticket         418 non-null object\n",
      "Fare           417 non-null float64\n",
      "Cabin          91 non-null object\n",
      "Embarked       418 non-null object\n",
      "dtypes: float64(2), int64(4), object(5)\n",
      "memory usage: 36.0+ KB\n",
      "(418, 13)\n"
     ]
    },
    {
     "data": {
      "text/plain": [
       "<418x13 sparse matrix of type '<class 'numpy.float64'>'\n",
       "\twith 2774 stored elements in Compressed Sparse Row format>"
      ]
     },
     "execution_count": 14,
     "metadata": {},
     "output_type": "execute_result"
    }
   ],
   "source": [
    "class RemoveNullPropertyRecords(BaseEstimator,TransformerMixin):\n",
    "    '''删除指定属性为空的记录的转换器'''\n",
    "    def __init__(self,attribute_names):\n",
    "        self.attribute_names=attribute_names\n",
    "    def fit(self,X,y=None):\n",
    "        return self\n",
    "    def transform(self,X):\n",
    "        return X.dropna(subset=self.attribute_names) #返回的还是DataFrame对象\n",
    "    \n",
    "class DataFrameSelector(BaseEstimator,TransformerMixin):\n",
    "    '''数据子集转换器'''\n",
    "    def __init__(self,attribute_names):\n",
    "        self.attribute_names=attribute_names\n",
    "    def fit(self,X,y=None):\n",
    "        return self\n",
    "    def transform(self,X):\n",
    "        return X[self.attribute_names].values\n",
    "\n",
    "class MyLabelBinarizer(TransformerMixin):\n",
    "    '''在pipe里直接用LabelBinarizer会出错，需要用带3个参数构造函数封装一下'''\n",
    "    def __init__(self, *args, **kwargs):\n",
    "        self.encoder = LabelBinarizer(*args, **kwargs)\n",
    "    def fit(self, x, y=0):\n",
    "        self.encoder.fit(x)\n",
    "        return self\n",
    "    def transform(self, x, y=0):\n",
    "        return self.encoder.transform(x)\n",
    "    \n",
    "class MyOneHotEncoder(TransformerMixin):\n",
    "    '''在pipe里直接用OneHotEncoder会出错，需要用带3个参数构造函数封装一下'''\n",
    "    def __init__(self, *args, **kwargs):\n",
    "        self.encoder = OneHotEncoder(*args, **kwargs)\n",
    "    def fit(self, x, y=0):\n",
    "        self.encoder.fit(x)\n",
    "        return self\n",
    "    def transform(self, x, y=0):\n",
    "        return self.encoder.transform(x)\n",
    "\n",
    "#定义各个pipe\n",
    "num_attribs=['Age','Fare']\n",
    "str_attribs_sex=['Sex']\n",
    "str_attribs_embarked=['Embarked']\n",
    "cat_attribs_pclass=['Pclass']\n",
    "cat_attribs_sibsp=['SibSp']\n",
    "cat_attribs_parch=['Parch']\n",
    "\n",
    "num_pipeline=Pipeline([\n",
    "    ('selector',DataFrameSelector(num_attribs)),\n",
    "    ('imputer',Imputer(strategy='median')),\n",
    "    ('std_scaler',StandardScaler())\n",
    "    ])\n",
    "\n",
    "str_pipeline_sex=Pipeline([\n",
    "    ('selector',DataFrameSelector(str_attribs_sex)),\n",
    "    ('label_binarizer',MyLabelBinarizer()),\n",
    "    ])\n",
    "\n",
    "str_pipeline_embarked=Pipeline([\n",
    "    ('selector',DataFrameSelector(str_attribs_embarked)),\n",
    "    ('label_binarizer',MyLabelBinarizer()),\n",
    "    ])\n",
    "\n",
    "cat_pipeline_pclass=Pipeline([\n",
    "    ('selector',DataFrameSelector(cat_attribs_pclass)),\n",
    "    ('ont_not_encoder',MyOneHotEncoder()),\n",
    "    ])\n",
    "\n",
    "cat_pipeline_sibsp=Pipeline([\n",
    "    ('selector',DataFrameSelector(cat_attribs_sibsp)),\n",
    "    ('ont_not_encoder',MyOneHotEncoder()),\n",
    "    ])\n",
    "\n",
    "cat_pipeline_parch=Pipeline([\n",
    "    ('selector',DataFrameSelector(cat_attribs_parch)),\n",
    "    ('ont_not_encoder',MyOneHotEncoder()),\n",
    "    ])\n",
    "\n",
    "full_pipeline=FeatureUnion(transformer_list=[\n",
    "    ('num_pipeline',num_pipeline),\n",
    "    ('str_pipeline_sex',str_pipeline_sex),\n",
    "    ('str_pipeline_embarked',str_pipeline_embarked),\n",
    "    ('cat_pipeline_pclass',cat_pipeline_pclass),\n",
    "    ('cat_attribs_sibsp',cat_pipeline_sibsp),\n",
    "    ('cat_pipeline_parch',cat_pipeline_parch),\n",
    "])\n",
    "\n",
    "#读取数据\n",
    "csv_path='D:\\MyBlogs\\Machine Learning Project Simulation'\n",
    "test_set=pd.read_csv(os.path.join(csv_path,'test.csv'))\n",
    "test_set.info()\n",
    "#先对原始数据进行SibSp和Parch属性的更新\n",
    "sibsp=[]\n",
    "for index, row in test_set.iterrows():\n",
    "    if row['SibSp']>0:\n",
    "        sibsp.append(1)\n",
    "    else:\n",
    "        sibsp.append(0)\n",
    "test_set=test_set.drop('SibSp',axis=1,inplace=False)\n",
    "test_set.insert(0,'SibSp',sibsp)\n",
    "\n",
    "parch=[]\n",
    "for index, row in test_set.iterrows():\n",
    "    if row['Parch']>0:\n",
    "        parch.append(1)\n",
    "    else:\n",
    "        parch.append(0)\n",
    "test_set=test_set.drop('Parch',axis=1,inplace=False)\n",
    "test_set.insert(0,'Parch',parch)\n",
    "\n",
    "#运行pipe，得到处理过的test_X\n",
    "test_X=full_pipeline.fit_transform(test_set)\n",
    "print(test_X.shape)\n",
    "test_X\n",
    "\n"
   ]
  },
  {
   "cell_type": "markdown",
   "metadata": {},
   "source": [
    "载入训练好的模型"
   ]
  },
  {
   "cell_type": "code",
   "execution_count": 19,
   "metadata": {},
   "outputs": [],
   "source": [
    "svc=joblib.load('my_model.pkl')"
   ]
  },
  {
   "cell_type": "code",
   "execution_count": 33,
   "metadata": {},
   "outputs": [
    {
     "name": "stdout",
     "output_type": "stream",
     "text": [
      "(418,)\n"
     ]
    },
    {
     "ename": "TypeError",
     "evalue": "'CClass' object is not callable",
     "output_type": "error",
     "traceback": [
      "\u001b[1;31m---------------------------------------------------------------------------\u001b[0m",
      "\u001b[1;31mTypeError\u001b[0m                                 Traceback (most recent call last)",
      "\u001b[1;32m<ipython-input-33-ec272540be4b>\u001b[0m in \u001b[0;36m<module>\u001b[1;34m()\u001b[0m\n\u001b[0;32m      1\u001b[0m \u001b[0mtest_pred\u001b[0m\u001b[1;33m=\u001b[0m\u001b[0msvc\u001b[0m\u001b[1;33m.\u001b[0m\u001b[0mpredict\u001b[0m\u001b[1;33m(\u001b[0m\u001b[0mtest_X\u001b[0m\u001b[1;33m.\u001b[0m\u001b[0mtoarray\u001b[0m\u001b[1;33m(\u001b[0m\u001b[1;33m)\u001b[0m\u001b[1;33m)\u001b[0m\u001b[1;33m\u001b[0m\u001b[0m\n\u001b[0;32m      2\u001b[0m \u001b[0mprint\u001b[0m\u001b[1;33m(\u001b[0m\u001b[0mtest_pred\u001b[0m\u001b[1;33m.\u001b[0m\u001b[0mshape\u001b[0m\u001b[1;33m)\u001b[0m\u001b[1;33m\u001b[0m\u001b[0m\n\u001b[1;32m----> 3\u001b[1;33m \u001b[0mdata\u001b[0m\u001b[1;33m=\u001b[0m\u001b[0mnp\u001b[0m\u001b[1;33m.\u001b[0m\u001b[0mc_\u001b[0m\u001b[1;33m(\u001b[0m\u001b[0mpassagerIds\u001b[0m\u001b[1;33m,\u001b[0m\u001b[0mtest_pred\u001b[0m\u001b[1;33m)\u001b[0m\u001b[1;33m\u001b[0m\u001b[0m\n\u001b[0m",
      "\u001b[1;31mTypeError\u001b[0m: 'CClass' object is not callable"
     ]
    }
   ],
   "source": [
    "test_pred=svc.predict(test_X.toarray())\n",
    "print(test_pred.shape)"
   ]
  },
  {
   "cell_type": "markdown",
   "metadata": {},
   "source": [
    "安装Kaggle的要求生成指定格式的提交文件"
   ]
  },
  {
   "cell_type": "code",
   "execution_count": 39,
   "metadata": {},
   "outputs": [
    {
     "name": "stdout",
     "output_type": "stream",
     "text": [
      "<class 'pandas.core.frame.DataFrame'>\n",
      "RangeIndex: 418 entries, 0 to 417\n",
      "Data columns (total 2 columns):\n",
      "PassengerId    418 non-null int64\n",
      "Survived       418 non-null int64\n",
      "dtypes: int64(2)\n",
      "memory usage: 6.6 KB\n"
     ]
    }
   ],
   "source": [
    "passagerIds=test_set['PassengerId'].values\n",
    "submission=pd.DataFrame(data=np.c_[passagerIds,test_pred],columns=['PassengerId','Survived'])\n",
    "submission.info()\n",
    "submission.to_csv('submission.csv')"
   ]
  },
  {
   "cell_type": "code",
   "execution_count": null,
   "metadata": {},
   "outputs": [],
   "source": []
  }
 ],
 "metadata": {
  "kernelspec": {
   "display_name": "Python 3",
   "language": "python",
   "name": "python3"
  },
  "language_info": {
   "codemirror_mode": {
    "name": "ipython",
    "version": 3
   },
   "file_extension": ".py",
   "mimetype": "text/x-python",
   "name": "python",
   "nbconvert_exporter": "python",
   "pygments_lexer": "ipython3",
   "version": "3.6.5"
  }
 },
 "nbformat": 4,
 "nbformat_minor": 2
}
