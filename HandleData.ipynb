{
 "cells": [
  {
   "cell_type": "code",
   "execution_count": 1,
   "metadata": {},
   "outputs": [],
   "source": [
    "import pandas as pd\n",
    "import os\n",
    "import matplotlib.pyplot as plt\n",
    "%matplotlib inline\n",
    "from sklearn.preprocessing import Imputer\n",
    "from sklearn.preprocessing import LabelEncoder\n",
    "from sklearn.preprocessing import LabelBinarizer\n",
    "from sklearn.preprocessing import OneHotEncoder\n",
    "from sklearn.base import BaseEstimator,TransformerMixin\n",
    "import numpy as np\n",
    "from sklearn.pipeline import Pipeline\n",
    "from sklearn.preprocessing import StandardScaler\n",
    "from sklearn.pipeline import FeatureUnion"
   ]
  },
  {
   "cell_type": "markdown",
   "metadata": {},
   "source": [
    "# 1 数据清理分析"
   ]
  },
  {
   "cell_type": "code",
   "execution_count": 2,
   "metadata": {},
   "outputs": [],
   "source": [
    "csv_path='D:\\MyBlogs\\Machine Learning Project Simulation'\n",
    "train_set_original=pd.read_csv(os.path.join(csv_path,'train.csv'))\n",
    "train_set=train_set_original.copy()\n",
    "test_set=pd.read_csv(os.path.join(csv_path,'test.csv'))"
   ]
  },
  {
   "cell_type": "markdown",
   "metadata": {},
   "source": [
    "先把Name,Cabin和Ticket属性去掉"
   ]
  },
  {
   "cell_type": "code",
   "execution_count": 3,
   "metadata": {
    "collapsed": true
   },
   "outputs": [
    {
     "name": "stdout",
     "output_type": "stream",
     "text": [
      "<class 'pandas.core.frame.DataFrame'>\n",
      "RangeIndex: 891 entries, 0 to 890\n",
      "Data columns (total 9 columns):\n",
      "PassengerId    891 non-null int64\n",
      "Survived       891 non-null int64\n",
      "Pclass         891 non-null int64\n",
      "Sex            891 non-null object\n",
      "Age            714 non-null float64\n",
      "SibSp          891 non-null int64\n",
      "Parch          891 non-null int64\n",
      "Fare           891 non-null float64\n",
      "Embarked       889 non-null object\n",
      "dtypes: float64(2), int64(5), object(2)\n",
      "memory usage: 62.7+ KB\n"
     ]
    }
   ],
   "source": [
    "try:\n",
    "    train_set=train_set.drop('Cabin',axis=1)\n",
    "    train_set=train_set.drop('Ticket',axis=1)\n",
    "    train_set=train_set.drop('Name',axis=1)\n",
    "except:\n",
    "    pass\n",
    "train_set.info()"
   ]
  },
  {
   "cell_type": "markdown",
   "metadata": {},
   "source": [
    "Embarked属性是分类属性，存在少量的缺失，可以把缺失Embarked的记录删除"
   ]
  },
  {
   "cell_type": "code",
   "execution_count": 4,
   "metadata": {
    "collapsed": true
   },
   "outputs": [
    {
     "name": "stdout",
     "output_type": "stream",
     "text": [
      "<class 'pandas.core.frame.DataFrame'>\n",
      "Int64Index: 889 entries, 0 to 890\n",
      "Data columns (total 9 columns):\n",
      "PassengerId    889 non-null int64\n",
      "Survived       889 non-null int64\n",
      "Pclass         889 non-null int64\n",
      "Sex            889 non-null object\n",
      "Age            712 non-null float64\n",
      "SibSp          889 non-null int64\n",
      "Parch          889 non-null int64\n",
      "Fare           889 non-null float64\n",
      "Embarked       889 non-null object\n",
      "dtypes: float64(2), int64(5), object(2)\n",
      "memory usage: 69.5+ KB\n"
     ]
    }
   ],
   "source": [
    "try:\n",
    "    train_set=train_set.dropna(subset=['Embarked'])\n",
    "except:\n",
    "    pass\n",
    "train_set.info()"
   ]
  },
  {
   "cell_type": "markdown",
   "metadata": {},
   "source": [
    "对于Age属性，用中位数填充空值"
   ]
  },
  {
   "cell_type": "code",
   "execution_count": 5,
   "metadata": {},
   "outputs": [
    {
     "name": "stdout",
     "output_type": "stream",
     "text": [
      "[446.       0.       3.      28.       0.       0.      14.4542]\n"
     ]
    }
   ],
   "source": [
    "imputer=Imputer(strategy='median')\n",
    "try:\n",
    "    train_set_WithoutDiscreteValues=train_set.drop(['Sex','Embarked'],axis=1) #Imputer不能计算非数值属性\n",
    "except:\n",
    "    pass\n",
    "imputer.fit(train_set_WithoutDiscreteValues)\n",
    "print(imputer.statistics_)"
   ]
  },
  {
   "cell_type": "code",
   "execution_count": 6,
   "metadata": {},
   "outputs": [
    {
     "name": "stdout",
     "output_type": "stream",
     "text": [
      "<class 'pandas.core.frame.DataFrame'>\n",
      "RangeIndex: 889 entries, 0 to 888\n",
      "Data columns (total 7 columns):\n",
      "PassengerId    889 non-null float64\n",
      "Survived       889 non-null float64\n",
      "Pclass         889 non-null float64\n",
      "Age            889 non-null float64\n",
      "SibSp          889 non-null float64\n",
      "Parch          889 non-null float64\n",
      "Fare           889 non-null float64\n",
      "dtypes: float64(7)\n",
      "memory usage: 48.7 KB\n"
     ]
    }
   ],
   "source": [
    "X=imputer.transform(train_set_WithoutDiscreteValues)\n",
    "train_set_WithoutDiscreteValues=pd.DataFrame(X,columns=train_set_WithoutDiscreteValues.columns)\n",
    "train_set_WithoutDiscreteValues.info()"
   ]
  },
  {
   "cell_type": "markdown",
   "metadata": {},
   "source": [
    "将SibSp和Parch属性转成二值属性"
   ]
  },
  {
   "cell_type": "code",
   "execution_count": 7,
   "metadata": {},
   "outputs": [
    {
     "data": {
      "text/plain": [
       "0    606\n",
       "1    283\n",
       "Name: SibSp, dtype: int64"
      ]
     },
     "execution_count": 7,
     "metadata": {},
     "output_type": "execute_result"
    }
   ],
   "source": [
    "sibsp=[]\n",
    "for index, row in train_set_WithoutDiscreteValues.iterrows():\n",
    "    if row['SibSp']>0:\n",
    "        sibsp.append(1)\n",
    "    else:\n",
    "        sibsp.append(0)\n",
    "train_set_WithoutDiscreteValues=train_set_WithoutDiscreteValues.drop('SibSp',axis=1,inplace=False)\n",
    "train_set_WithoutDiscreteValues.insert(0,'SibSp',sibsp)\n",
    "train_set_WithoutDiscreteValues['SibSp'].value_counts()"
   ]
  },
  {
   "cell_type": "code",
   "execution_count": 23,
   "metadata": {},
   "outputs": [
    {
     "data": {
      "text/plain": [
       "0    676\n",
       "1    213\n",
       "Name: Parch, dtype: int64"
      ]
     },
     "execution_count": 23,
     "metadata": {},
     "output_type": "execute_result"
    }
   ],
   "source": [
    "parch=[]\n",
    "for index, row in train_set_WithoutDiscreteValues.iterrows():\n",
    "    if row['Parch']>0:\n",
    "        parch.append(1)\n",
    "    else:\n",
    "        parch.append(0)\n",
    "train_set_WithoutDiscreteValues=train_set_WithoutDiscreteValues.drop('Parch',axis=1,inplace=False)\n",
    "train_set_WithoutDiscreteValues.insert(0,'Parch',parch)\n",
    "train_set_WithoutDiscreteValues['Parch'].value_counts()"
   ]
  },
  {
   "cell_type": "markdown",
   "metadata": {},
   "source": [
    "处理文本属性和分类属性，转成独热编码('Sex','Embarked'是文本属性，'Pclass','SibSp','Parch'是分类属性)"
   ]
  },
  {
   "cell_type": "code",
   "execution_count": 77,
   "metadata": {},
   "outputs": [],
   "source": [
    "encoder=LabelEncoder()\n",
    "train_set_Sex=train_set['Sex']\n",
    "train_set_Embarked=train_set['Embarked']\n",
    "train_set_Sex=encoder.fit_transform(train_set_Sex)\n",
    "train_set_Embarked=encoder.fit_transform(train_set_Embarked)\n",
    "train_set_Pclass=train_set_WithoutDiscreteValues['Pclass'].values\n",
    "train_set_SibSp=train_set_WithoutDiscreteValues['SibSp'].values\n",
    "train_set_Parch=train_set_WithoutDiscreteValues['Parch'].values\n",
    "\n",
    "encoder2=OneHotEncoder()\n",
    "train_set_Sex=encoder2.fit_transform(train_set_Sex.reshape(-1,1))\n",
    "train_set_Embarked=encoder2.fit_transform(train_set_Embarked.reshape(-1,1))\n",
    "train_set_Pclass=encoder2.fit_transform(train_set_Pclass.reshape(-1,1))\n",
    "train_set_SibSp=encoder2.fit_transform(train_set_SibSp.reshape(-1,1))\n",
    "train_set_Parch=encoder2.fit_transform(train_set_Parch.reshape(-1,1))\n",
    "#print(encoder.classes_)\n",
    "#train_set_Embarked.shape\n",
    "#print(encoder.classes_)"
   ]
  },
  {
   "cell_type": "markdown",
   "metadata": {},
   "source": [
    "# 2 编写Pipe"
   ]
  },
  {
   "cell_type": "markdown",
   "metadata": {},
   "source": [
    "合并上面的代码，分别为数值属性和分类属性自定义转换器并组成pipe，将原始数据转换成合适的格式"
   ]
  },
  {
   "cell_type": "markdown",
   "metadata": {},
   "source": [
    "## 1 首先定义一个可去除指定属性为空的记录的转换器RemoveNullPropertyRecords"
   ]
  },
  {
   "cell_type": "code",
   "execution_count": 7,
   "metadata": {},
   "outputs": [],
   "source": [
    "class RemoveNullPropertyRecords(BaseEstimator,TransformerMixin):\n",
    "    def __init__(self,attribute_names):\n",
    "        self.attribute_names=attribute_names\n",
    "    def fit(self,X,y=None):\n",
    "        return self\n",
    "    def transform(self,X):\n",
    "        return X.dropna(subset=self.attribute_names) #返回的还是DataFrame对象\n",
    "#removeNullPropertyRecords=RemoveNullPropertyRecords(['Embarked'])\n",
    "#x=removeNullPropertyRecords.fit_transform(train_set_original.copy())\n",
    "#x.info()"
   ]
  },
  {
   "cell_type": "markdown",
   "metadata": {},
   "source": [
    "## 2 然后定义一个数据子集提取器，输入属性名，返回包含这些属性的数据集DataFrameSelector"
   ]
  },
  {
   "cell_type": "code",
   "execution_count": 8,
   "metadata": {},
   "outputs": [],
   "source": [
    "class DataFrameSelector(BaseEstimator,TransformerMixin):\n",
    "    def __init__(self,attribute_names):\n",
    "        self.attribute_names=attribute_names\n",
    "    def fit(self,X,y=None):\n",
    "        return self\n",
    "    def transform(self,X):\n",
    "        return X[self.attribute_names].values#返回的还是DataFrame对象\n",
    "#dataFrameSelector=DataFrameSelector(['Age','Fare'])\n",
    "#x=dataFrameSelector.fit_transform(x)\n",
    "#x.info()\n"
   ]
  },
  {
   "cell_type": "markdown",
   "metadata": {},
   "source": [
    "## 3 为数值属性定义一个数值处理pipe，其流程是：去除指定属性为空的记录提取数值属性集->中位数补齐->归一化"
   ]
  },
  {
   "cell_type": "code",
   "execution_count": 9,
   "metadata": {},
   "outputs": [
    {
     "name": "stdout",
     "output_type": "stream",
     "text": [
      "[[22.      7.25  ]\n",
      " [38.     71.2833]\n",
      " [26.      7.925 ]\n",
      " ...\n",
      " [    nan 23.45  ]\n",
      " [26.     30.    ]\n",
      " [32.      7.75  ]]\n",
      "(889, 2)\n"
     ]
    }
   ],
   "source": [
    "rv_null_attribs=['Embarked']\n",
    "num_attribs=['Age','Fare']\n",
    "num_pipeline=Pipeline([\n",
    "    ('remove',RemoveNullPropertyRecords(rv_null_attribs)),\n",
    "    ('selector',DataFrameSelector(num_attribs)),\n",
    "    #('imputer',Imputer(strategy='median')),\n",
    "    #('std_scaler',StandardScaler())\n",
    "    ])\n",
    "x=num_pipeline.fit_transform(train_set_original.copy())\n",
    "print(x)\n",
    "print(x.shape)"
   ]
  },
  {
   "cell_type": "markdown",
   "metadata": {},
   "source": [
    "## 4 为字符属性定义pipe, 其流程是: 去除指定属性为空的记录->提取字符属性集->字符转数字并独热编码"
   ]
  },
  {
   "cell_type": "code",
   "execution_count": 132,
   "metadata": {},
   "outputs": [],
   "source": [
    "str_attribs_sex=['Sex']\n",
    "str_attribs_embarked=['Embarked']\n",
    "\n",
    "class MyLabelBinarizer(TransformerMixin):\n",
    "    '''在pipe里直接用LabelBinarizer会出错，需要用带3个参数构造函数封装一下'''\n",
    "    def __init__(self, *args, **kwargs):\n",
    "        self.encoder = LabelBinarizer(*args, **kwargs)\n",
    "    def fit(self, x, y=0):\n",
    "        self.encoder.fit(x)\n",
    "        return self\n",
    "    def transform(self, x, y=0):\n",
    "        return self.encoder.transform(x)\n",
    "\n",
    "\n",
    "str_pipeline_sex=Pipeline([\n",
    "    ('remove',RemoveNullPropertyRecords(rv_null_attribs)),\n",
    "    ('selector',DataFrameSelector(str_attribs_sex)),\n",
    "    ('label_binarizer',MyLabelBinarizer()),\n",
    "    ])\n",
    "#x=str_pipeline_sex.fit_transform(train_set_original.copy()) \n",
    "#print(x.shape)\n",
    "\n",
    "\n",
    "str_pipeline_embarked=Pipeline([\n",
    "    ('remove',RemoveNullPropertyRecords(rv_null_attribs)),\n",
    "    ('selector',DataFrameSelector(str_attribs_embarked)),\n",
    "    ('label_binarizer',MyLabelBinarizer()),\n",
    "    ])\n",
    "#x=str_pipeline_embarked.fit_transform(train_set_original.copy()) \n",
    "#print(x.shape)"
   ]
  },
  {
   "cell_type": "markdown",
   "metadata": {},
   "source": [
    "## 5 为数字分类属性定义pipe，其流程是：去除指定属性为空的记录->提取字符属性集->独热编码"
   ]
  },
  {
   "cell_type": "code",
   "execution_count": 131,
   "metadata": {},
   "outputs": [],
   "source": [
    "class MyOneHotEncoder(TransformerMixin):\n",
    "    '''在pipe里直接用OneHotEncoder会出错，需要用带3个参数构造函数封装一下'''\n",
    "    def __init__(self, *args, **kwargs):\n",
    "        self.encoder = OneHotEncoder(*args, **kwargs)\n",
    "    def fit(self, x, y=0):\n",
    "        self.encoder.fit(x)\n",
    "        return self\n",
    "    def transform(self, x, y=0):\n",
    "        return self.encoder.transform(x)\n",
    "\n",
    "cat_attribs_pclass=['Pclass']\n",
    "cat_pipeline_pclass=Pipeline([\n",
    "    ('remove',RemoveNullPropertyRecords(rv_null_attribs)),\n",
    "    ('selector',DataFrameSelector(cat_attribs_pclass)),\n",
    "    ('ont_not_encoder',MyOneHotEncoder()),\n",
    "    ])\n",
    "#x=cat_pipeline_pclass.fit_transform(train_set_original.copy()) \n",
    "#print(x.shape)\n",
    "\n",
    "cat_attribs_sibsp=['SibSp']\n",
    "cat_pipeline_sibsp=Pipeline([\n",
    "    ('remove',RemoveNullPropertyRecords(rv_null_attribs)),\n",
    "    ('selector',DataFrameSelector(cat_attribs_sibsp)),\n",
    "    ('ont_not_encoder',MyOneHotEncoder()),\n",
    "    ])\n",
    "#x=cat_pipeline_sibsp.fit_transform(train_set_original.copy()) \n",
    "#print(x.shape)\n",
    "\n",
    "cat_attribs_parch=['Parch']\n",
    "cat_pipeline_parch=Pipeline([\n",
    "    ('remove',RemoveNullPropertyRecords(rv_null_attribs)),\n",
    "    ('selector',DataFrameSelector(cat_attribs_parch)),\n",
    "    ('ont_not_encoder',MyOneHotEncoder()),\n",
    "    ])\n",
    "#x=cat_pipeline_parch.fit_transform(train_set_original.copy()) \n",
    "#print(x.shape)"
   ]
  },
  {
   "cell_type": "markdown",
   "metadata": {},
   "source": [
    "## 6 定义一个组合Pipe"
   ]
  },
  {
   "cell_type": "code",
   "execution_count": 140,
   "metadata": {},
   "outputs": [],
   "source": [
    "full_pipeline=FeatureUnion(transformer_list=[\n",
    "    ('num_pipeline',num_pipeline),\n",
    "    ('str_pipeline_sex',str_pipeline_sex),\n",
    "    ('str_pipeline_embarked',str_pipeline_embarked),\n",
    "    ('cat_pipeline_pclass',cat_pipeline_pclass),\n",
    "    ('cat_attribs_sibsp',cat_pipeline_sibsp),\n",
    "    ('cat_pipeline_parch',cat_pipeline_parch),\n",
    "])"
   ]
  },
  {
   "cell_type": "markdown",
   "metadata": {},
   "source": [
    "## 7 运行pipe"
   ]
  },
  {
   "cell_type": "code",
   "execution_count": 53,
   "metadata": {},
   "outputs": [
    {
     "name": "stdout",
     "output_type": "stream",
     "text": [
      "(889, 13)\n",
      "(889, 1)\n"
     ]
    }
   ],
   "source": [
    "class RemoveNullPropertyRecords(BaseEstimator,TransformerMixin):\n",
    "    '''删除指定属性为空的记录的转换器'''\n",
    "    def __init__(self,attribute_names):\n",
    "        self.attribute_names=attribute_names\n",
    "    def fit(self,X,y=None):\n",
    "        return self\n",
    "    def transform(self,X):\n",
    "        return X.dropna(subset=self.attribute_names) #返回的还是DataFrame对象\n",
    "    \n",
    "class DataFrameSelector(BaseEstimator,TransformerMixin):\n",
    "    '''数据子集转换器'''\n",
    "    def __init__(self,attribute_names):\n",
    "        self.attribute_names=attribute_names\n",
    "    def fit(self,X,y=None):\n",
    "        return self\n",
    "    def transform(self,X):\n",
    "        return X[self.attribute_names].values\n",
    "\n",
    "class MyLabelBinarizer(TransformerMixin):\n",
    "    '''在pipe里直接用LabelBinarizer会出错，需要用带3个参数构造函数封装一下'''\n",
    "    def __init__(self, *args, **kwargs):\n",
    "        self.encoder = LabelBinarizer(*args, **kwargs)\n",
    "    def fit(self, x, y=0):\n",
    "        self.encoder.fit(x)\n",
    "        return self\n",
    "    def transform(self, x, y=0):\n",
    "        return self.encoder.transform(x)\n",
    "    \n",
    "class MyOneHotEncoder(TransformerMixin):\n",
    "    '''在pipe里直接用OneHotEncoder会出错，需要用带3个参数构造函数封装一下'''\n",
    "    def __init__(self, *args, **kwargs):\n",
    "        self.encoder = OneHotEncoder(*args, **kwargs)\n",
    "    def fit(self, x, y=0):\n",
    "        self.encoder.fit(x)\n",
    "        return self\n",
    "    def transform(self, x, y=0):\n",
    "        return self.encoder.transform(x)\n",
    "\n",
    "#定义各个pipe\n",
    "rv_null_attribs=['Embarked']\n",
    "num_attribs=['Age','Fare']\n",
    "str_attribs_sex=['Sex']\n",
    "str_attribs_embarked=['Embarked']\n",
    "cat_attribs_pclass=['Pclass']\n",
    "cat_attribs_sibsp=['SibSp']\n",
    "cat_attribs_parch=['Parch']\n",
    "\n",
    "num_pipeline=Pipeline([\n",
    "    ('remove',RemoveNullPropertyRecords(rv_null_attribs)),\n",
    "    ('selector',DataFrameSelector(num_attribs)),\n",
    "    ('imputer',Imputer(strategy='median')),\n",
    "    ('std_scaler',StandardScaler())\n",
    "    ])\n",
    "\n",
    "str_pipeline_sex=Pipeline([\n",
    "    ('remove',RemoveNullPropertyRecords(rv_null_attribs)),\n",
    "    ('selector',DataFrameSelector(str_attribs_sex)),\n",
    "    ('label_binarizer',MyLabelBinarizer()),\n",
    "    ])\n",
    "\n",
    "str_pipeline_embarked=Pipeline([\n",
    "    ('remove',RemoveNullPropertyRecords(rv_null_attribs)),\n",
    "    ('selector',DataFrameSelector(str_attribs_embarked)),\n",
    "    ('label_binarizer',MyLabelBinarizer()),\n",
    "    ])\n",
    "\n",
    "cat_pipeline_pclass=Pipeline([\n",
    "    ('remove',RemoveNullPropertyRecords(rv_null_attribs)),\n",
    "    ('selector',DataFrameSelector(cat_attribs_pclass)),\n",
    "    ('ont_not_encoder',MyOneHotEncoder()),\n",
    "    ])\n",
    "\n",
    "cat_pipeline_sibsp=Pipeline([\n",
    "    ('remove',RemoveNullPropertyRecords(rv_null_attribs)),\n",
    "    ('selector',DataFrameSelector(cat_attribs_sibsp)),\n",
    "    ('ont_not_encoder',MyOneHotEncoder()),\n",
    "    ])\n",
    "\n",
    "cat_pipeline_parch=Pipeline([\n",
    "    ('remove',RemoveNullPropertyRecords(rv_null_attribs)),\n",
    "    ('selector',DataFrameSelector(cat_attribs_parch)),\n",
    "    ('ont_not_encoder',MyOneHotEncoder()),\n",
    "    ])\n",
    "\n",
    "full_pipeline=FeatureUnion(transformer_list=[\n",
    "    ('num_pipeline',num_pipeline),\n",
    "    ('str_pipeline_sex',str_pipeline_sex),\n",
    "    ('str_pipeline_embarked',str_pipeline_embarked),\n",
    "    ('cat_pipeline_pclass',cat_pipeline_pclass),\n",
    "    ('cat_attribs_sibsp',cat_pipeline_sibsp),\n",
    "    ('cat_pipeline_parch',cat_pipeline_parch),\n",
    "])\n",
    "\n",
    "#读取数据\n",
    "csv_path='D:\\MyBlogs\\Machine Learning Project Simulation'\n",
    "train_set_original=pd.read_csv(os.path.join(csv_path,'train.csv'))\n",
    "train_set=train_set_original.copy()\n",
    "test_set=pd.read_csv(os.path.join(csv_path,'test.csv'))\n",
    "\n",
    "#先对原始数据进行SibSp和Parch属性的更新\n",
    "sibsp=[]\n",
    "for index, row in train_set.iterrows():\n",
    "    if row['SibSp']>0:\n",
    "        sibsp.append(1)\n",
    "    else:\n",
    "        sibsp.append(0)\n",
    "train_set=train_set.drop('SibSp',axis=1,inplace=False)\n",
    "train_set.insert(0,'SibSp',sibsp)\n",
    "\n",
    "parch=[]\n",
    "for index, row in train_set.iterrows():\n",
    "    if row['Parch']>0:\n",
    "        parch.append(1)\n",
    "    else:\n",
    "        parch.append(0)\n",
    "train_set=train_set.drop('Parch',axis=1,inplace=False)\n",
    "train_set.insert(0,'Parch',parch)\n",
    "\n",
    "#运行pipe，得到处理过的train_X\n",
    "train_X=full_pipeline.fit_transform(train_set)\n",
    "print(train_X.shape)\n",
    "\n",
    "#同样的，也可以使用pipe得到train_Y\n",
    "label_pipeline=Pipeline([\n",
    "    ('remove',RemoveNullPropertyRecords(rv_null_attribs)),\n",
    "    ('selector',DataFrameSelector(['Survived']))\n",
    "    ])\n",
    "train_Y=label_pipeline.fit_transform(train_set)\n",
    "print(train_Y.shape)\n",
    "\n",
    "#把处理好的训练数据保存，便于下一章的处理\n",
    "data_X = pd.DataFrame(train_X.toarray())\n",
    "data_X.to_csv('train_X.csv')\n",
    "#train_X=pd.read_csv('train_X.csv')\n",
    "#train_X.info()\n",
    "\n",
    "data_Y = pd.DataFrame(train_Y)\n",
    "data_Y.to_csv('train_Y.csv')\n",
    "#train_Y=pd.read_csv('train_Y.csv')\n",
    "#train_Y.info()"
   ]
  },
  {
   "cell_type": "code",
   "execution_count": null,
   "metadata": {},
   "outputs": [],
   "source": []
  }
 ],
 "metadata": {
  "kernelspec": {
   "display_name": "Python 3",
   "language": "python",
   "name": "python3"
  },
  "language_info": {
   "codemirror_mode": {
    "name": "ipython",
    "version": 3
   },
   "file_extension": ".py",
   "mimetype": "text/x-python",
   "name": "python",
   "nbconvert_exporter": "python",
   "pygments_lexer": "ipython3",
   "version": "3.6.5"
  }
 },
 "nbformat": 4,
 "nbformat_minor": 2
}
